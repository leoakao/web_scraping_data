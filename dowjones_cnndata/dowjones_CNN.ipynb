{
 "cells": [
  {
   "cell_type": "code",
   "execution_count": null,
   "metadata": {
    "collapsed": true
   },
   "outputs": [],
   "source": [
    "# Scraping stock prices for companies on Dow Jones Average"
   ]
  },
  {
   "cell_type": "code",
   "execution_count": 2,
   "metadata": {
    "collapsed": true
   },
   "outputs": [],
   "source": [
    "import requests\n",
    "from bs4 import BeautifulSoup\n",
    "import pandas \n",
    "import re\n",
    "date = \"10-11-2017\""
   ]
  },
  {
   "cell_type": "code",
   "execution_count": 3,
   "metadata": {
    "collapsed": true
   },
   "outputs": [],
   "source": [
    "# Extracting data from the first page only\n",
    "base_url = \"http://money.cnn.com/data/markets/dow/?page=\"\n",
    "l = []"
   ]
  },
  {
   "cell_type": "code",
   "execution_count": 4,
   "metadata": {
    "collapsed": true
   },
   "outputs": [],
   "source": [
    "for i in range(0,2):\n",
    "    r = requests.get(base_url + str(i+1))\n",
    "    c = r.content\n",
    "    soup = BeautifulSoup(c,\"html.parser\")\n",
    "    \n",
    "    # print(soup.prettify())\n",
    "    all = soup.find_all(\"div\", {\"class\": \"wsod_dataTableBorder\"})\n",
    "    list1 = all[1].find_all(\"a\", {\"class\": \"wsod_symbol\"})\n",
    "    list2 = all[1].find_all(\"span\",{\"stream\":re.compile('last_*')})\n",
    "    list3 = all[1].find_all(\"span\",{\"stream\":re.compile('change*')})\n",
    "    list4 = all[1].find_all(\"span\",{\"stream\":re.compile('changePct_*')})\n",
    "    list5 = all[1].find_all(\"td\")\n",
    "\n",
    "    for i in range(len(list1)):\n",
    "        d={}\n",
    "        d['1.Company'] = list1[i].text\n",
    "        d['2.Price'] = list2[i].text\n",
    "        d['3.Change'] = list3[2*i].text   \n",
    "        d['4.PctChange'] = list4[i].text\n",
    "        d['5.P/E'] = list5[4+7*i].text\n",
    "        d['6.Vol'] = list5[5+7*i].text\n",
    "        l.append(d)\n"
   ]
  },
  {
   "cell_type": "code",
   "execution_count": 5,
   "metadata": {
    "collapsed": true
   },
   "outputs": [],
   "source": [
    "df = pandas.DataFrame(l)\n",
    "df.to_csv(\"DowJones_\"+date+\"_1.csv\")"
   ]
  },
  {
   "cell_type": "code",
   "execution_count": null,
   "metadata": {
    "collapsed": true
   },
   "outputs": [],
   "source": []
  }
 ],
 "metadata": {
  "kernelspec": {
   "display_name": "Python 3",
   "language": "python",
   "name": "python3"
  },
  "language_info": {
   "codemirror_mode": {
    "name": "ipython",
    "version": 3
   },
   "file_extension": ".py",
   "mimetype": "text/x-python",
   "name": "python",
   "nbconvert_exporter": "python",
   "pygments_lexer": "ipython3",
   "version": "3.6.1"
  }
 },
 "nbformat": 4,
 "nbformat_minor": 2
}
