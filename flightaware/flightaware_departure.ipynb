{
 "cells": [
  {
   "cell_type": "code",
   "execution_count": 9,
   "metadata": {
    "collapsed": true
   },
   "outputs": [],
   "source": [
    "date = \"10-12-2017\"\n",
    "numflights = 60"
   ]
  },
  {
   "cell_type": "code",
   "execution_count": 10,
   "metadata": {
    "collapsed": true
   },
   "outputs": [],
   "source": [
    "import requests\n",
    "from bs4 import BeautifulSoup\n",
    "import pandas \n",
    "import re"
   ]
  },
  {
   "cell_type": "code",
   "execution_count": 11,
   "metadata": {
    "collapsed": true
   },
   "outputs": [],
   "source": [
    "# Extracting data from the first page only\n",
    "base_url1 = \"http://flightaware.com/live/airport/KDFW/departures?;offset=\"\n",
    "base_url2 = \";order=actualdeparturetime;sort=DESC\"\n",
    "l = []"
   ]
  },
  {
   "cell_type": "code",
   "execution_count": 12,
   "metadata": {
    "collapsed": true
   },
   "outputs": [],
   "source": [
    "for i in range(0,numflights+1,20):\n",
    "    r = requests.get(base_url1 + str(i) + base_url2)\n",
    "    c = r.content\n",
    "    soup = BeautifulSoup(c,\"html.parser\")\n",
    "    all = soup.find(\"table\", {\"class\": \"prettyTable fullWidth\"})\n",
    "\n",
    "    list1 = all.find_all(\"a\", {\"href\": re.compile(\"/live/flight/id/*\")})\n",
    "    list2 = all.find_all(\"a\", {\"href\": re.compile(\"/live/aircrafttype/*\")})\n",
    "    list3 = all.find_all(\"span\",{\"dir\":\"ltr\"})\n",
    "    list4 = all.find_all(\"td\",{\"class\":re.compile(\"smallrow*\")})\n",
    "\n",
    "    for i in range(len(list1)):\n",
    "        d = {}\n",
    "        d['1. Ident'] = list1[i].text\n",
    "        d['2. Type'] = list2[i].text\n",
    "        d['3. Destination'] = list3[2*i].text\n",
    "        d['4. Departure'] = list4[3+6*i].text\n",
    "        d['5. Est Arrival'] = list4[4+6*i].text\n",
    "        d['6. Arrval'] = list4[5+6*i].text\n",
    "        l.append(d)"
   ]
  },
  {
   "cell_type": "code",
   "execution_count": 13,
   "metadata": {
    "collapsed": true
   },
   "outputs": [],
   "source": [
    "df = pandas.DataFrame(l)\n",
    "df.to_csv(\"DFWdepart_\"+date+\".csv\")"
   ]
  },
  {
   "cell_type": "code",
   "execution_count": null,
   "metadata": {
    "collapsed": true
   },
   "outputs": [],
   "source": []
  }
 ],
 "metadata": {
  "kernelspec": {
   "display_name": "Python 3",
   "language": "python",
   "name": "python3"
  },
  "language_info": {
   "codemirror_mode": {
    "name": "ipython",
    "version": 3
   },
   "file_extension": ".py",
   "mimetype": "text/x-python",
   "name": "python",
   "nbconvert_exporter": "python",
   "pygments_lexer": "ipython3",
   "version": "3.6.2"
  }
 },
 "nbformat": 4,
 "nbformat_minor": 2
}
